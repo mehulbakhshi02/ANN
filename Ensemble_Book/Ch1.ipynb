{
 "cells": [
  {
   "cell_type": "code",
   "execution_count": 59,
   "id": "f39048b4-268f-4eb4-9887-2d2d62a6b5f4",
   "metadata": {},
   "outputs": [],
   "source": [
    "from sklearn.model_selection import train_test_split\n",
    "from sklearn.datasets import make_friedman1"
   ]
  },
  {
   "cell_type": "code",
   "execution_count": 83,
   "id": "cfff2be8-8911-4b7e-abdf-fc00926d15e7",
   "metadata": {},
   "outputs": [],
   "source": [
    "X, y = make_friedman1(n_samples=500, n_features=15, noise=0.3, random_state=23)\n",
    "Xtrn, Xtst, ytrn, ytst = train_test_split(X, y, test_size=0.25)\n",
    "from sklearn.kernel_ridge import KernelRidge\n",
    "from sklearn.svm import SVR\n",
    "from sklearn.tree import DecisionTreeRegressor\n",
    "from sklearn.neighbors import KNeighborsRegressor\n",
    "from sklearn.gaussian_process import GaussianProcessRegressor\n",
    "from sklearn.neural_network import MLPRegressor"
   ]
  },
  {
   "cell_type": "code",
   "execution_count": 84,
   "id": "72219636-9794-40b2-ba67-aaee0cb76fd2",
   "metadata": {},
   "outputs": [],
   "source": [
    "estimators = {'krr': KernelRidge(kernel='rbf', gamma=0.25),\n",
    "              'svr': SVR(gamma=0.5),\n",
    "              'dtr': DecisionTreeRegressor(max_depth=3),\n",
    "              'knn': KNeighborsRegressor(n_neighbors=4),\n",
    "              'gpr': GaussianProcessRegressor(alpha=0.1),\n",
    "              'mlp': MLPRegressor(alpha=25, max_iter=10000)\n",
    "             }"
   ]
  },
  {
   "cell_type": "code",
   "execution_count": 85,
   "id": "fe5a39fc-933f-400e-be8a-853ee22be7ef",
   "metadata": {},
   "outputs": [],
   "source": [
    "for name, estimator in estimators.items():\n",
    "    estimator=estimator.fit(Xtrn, ytrn)"
   ]
  },
  {
   "cell_type": "code",
   "execution_count": 86,
   "id": "60de8668-f83e-4980-ac6d-1575259942c6",
   "metadata": {},
   "outputs": [],
   "source": [
    "import numpy as np\n",
    "n_estimators, n_datapoints = len(estimators), Xtst.shape[0]\n",
    "y_individual = np.zeros((n_datapoints, n_estimators))\n",
    "for i, (model, estimator) in enumerate(estimators.items()):\n",
    "    y_individual[:, i] = estimator.predict(Xtst)\n",
    "\n",
    "y_final = np.mean(y_individual, axis=1)"
   ]
  },
  {
   "cell_type": "code",
   "execution_count": 87,
   "id": "f0f7b6b2-9534-4466-aa4c-fb07ec7ea2c0",
   "metadata": {},
   "outputs": [
    {
     "name": "stdout",
     "output_type": "stream",
     "text": [
      "R2 score of the ensemble model: 0.7589\n"
     ]
    }
   ],
   "source": [
    "from sklearn.metrics import r2_score\n",
    "r2 = r2_score(ytst, y_final)\n",
    "print(f\"R2 score of the ensemble model: {r2:.4f}\")"
   ]
  }
 ],
 "metadata": {
  "kernelspec": {
   "display_name": "Python 3 (ipykernel)",
   "language": "python",
   "name": "python3"
  },
  "language_info": {
   "codemirror_mode": {
    "name": "ipython",
    "version": 3
   },
   "file_extension": ".py",
   "mimetype": "text/x-python",
   "name": "python",
   "nbconvert_exporter": "python",
   "pygments_lexer": "ipython3",
   "version": "3.10.12"
  }
 },
 "nbformat": 4,
 "nbformat_minor": 5
}
